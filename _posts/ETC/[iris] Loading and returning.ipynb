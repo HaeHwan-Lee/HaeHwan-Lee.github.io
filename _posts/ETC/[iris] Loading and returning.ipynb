{
 "cells": [
  {
   "cell_type": "markdown",
   "metadata": {},
   "source": [
    "본 자료는 scikit-learn의 패키지 내용의 일부입니다."
   ]},
  {
 "cells": [
  {
   "cell_type": "markdown",
   "metadata": {},
   "source": [
    "The iris dataset is a classic and very easy multi-class classification dataset."
   ]
  },
  {
   "cell_type": "markdown",
   "metadata": {},
   "source": [
    "|Classes|Samples per class|Dimensionality|Features|\n",
    "|:---:|:--:|:---:|:---:|\n",
    "|3 | 50 | 4 | real, positive |"
   ]
  },
  {
   "cell_type": "code",
   "execution_count": 2,
   "metadata": {},
   "outputs": [],
   "source": [
    "def load_iris(return_X_y=False):\n",
    "    module_path = dirname(__file__)\n",
    "    data, target, target_names = load_data(module_path, 'iris.csv')\n",
    "    iris_csv_filename = join(module_path, 'data', 'iris.csv')\n",
    "\n",
    "    with open(join(module_path, 'descr', 'iris.rst')) as rst_file:\n",
    "        fdescr = rst_file.read()\n",
    "\n",
    "    if return_X_y:\n",
    "        return data, target\n",
    "\n",
    "    return Bunch(data=data, target=target,\n",
    "                 target_names=target_names,\n",
    "                 DESCR=fdescr,\n",
    "                 feature_names=['sepal length (cm)', 'sepal width (cm)',\n",
    "                                'petal length (cm)', 'petal width (cm)'],\n",
    "                 filename=iris_csv_filename)"
   ]
  },
  {
   "cell_type": "code",
   "execution_count": 1,
   "metadata": {},
   "outputs": [
    {
     "data": {
      "text/plain": [
       "\"Parameters\\n    ----------\\n    return_X_y : boolean, default=False.\\n        If True, returns ``(data, target)`` instead of a Bunch object. See\\n        below for more information about the `data` and `target` object.\\n\\n        .. versionadded:: 0.18\\n\\n    Returns\\n    -------\\n    data : Bunch\\n        Dictionary-like object, the interesting attributes are:\\n        'data', the data to learn, 'target', the classification labels,\\n        'target_names', the meaning of the labels, 'feature_names', the\\n        meaning of the features, 'DESCR', the full description of\\n        the dataset, 'filename', the physical location of\\n        iris csv dataset (added in version `0.20`).\\n\\n    (data, target) : tuple if ``return_X_y`` is True\\n\\n        .. versionadded:: 0.18\\n\\n    Notes\\n    -----\\n        .. versionchanged:: 0.20\\n            Fixed two wrong data points according to Fisher's paper.\\n            The new version is the same as in R, but not as in the UCI\\n            Machine Learning Repository.\\n\\n    Examples\\n    --------\\n    Let's say you are interested in the samples 10, 25, and 50, and want to\\n    know their class name.\\n\\n    >>> from sklearn.datasets import load_iris\\n    >>> data = load_iris()\\n    >>> data.target[[10, 25, 50]]\\n    array([0, 0, 1])\\n    >>> list(data.target_names)\\n    ['setosa', 'versicolor', 'virginica']\\n    \""
      ]
     },
     "execution_count": 1,
     "metadata": {},
     "output_type": "execute_result"
    }
   ],
   "source": [
    "\"\"\"Parameters\n",
    "    ----------\n",
    "    return_X_y : boolean, default=False.\n",
    "        If True, returns ``(data, target)`` instead of a Bunch object. See\n",
    "        below for more information about the `data` and `target` object.\n",
    "\n",
    "        .. versionadded:: 0.18\n",
    "\n",
    "    Returns\n",
    "    -------\n",
    "    data : Bunch\n",
    "        Dictionary-like object, the interesting attributes are:\n",
    "        'data', the data to learn, 'target', the classification labels,\n",
    "        'target_names', the meaning of the labels, 'feature_names', the\n",
    "        meaning of the features, 'DESCR', the full description of\n",
    "        the dataset, 'filename', the physical location of\n",
    "        iris csv dataset (added in version `0.20`).\n",
    "\n",
    "    (data, target) : tuple if ``return_X_y`` is True\n",
    "\n",
    "        .. versionadded:: 0.18\n",
    "\n",
    "    Notes\n",
    "    -----\n",
    "        .. versionchanged:: 0.20\n",
    "            Fixed two wrong data points according to Fisher's paper.\n",
    "            The new version is the same as in R, but not as in the UCI\n",
    "            Machine Learning Repository.\n",
    "\n",
    "    Examples\n",
    "    --------\n",
    "    Let's say you are interested in the samples 10, 25, and 50, and want to\n",
    "    know their class name.\n",
    "\n",
    "    >>> from sklearn.datasets import load_iris\n",
    "    >>> data = load_iris()\n",
    "    >>> data.target[[10, 25, 50]]\n",
    "    array([0, 0, 1])\n",
    "    >>> list(data.target_names)\n",
    "    ['setosa', 'versicolor', 'virginica']\n",
    "    \"\"\""
   ]
  }
 ],
 "metadata": {
  "kernelspec": {
   "display_name": "Python 3",
   "language": "python",
   "name": "python3"
  },
  "language_info": {
   "codemirror_mode": {
    "name": "ipython",
    "version": 3
   },
   "file_extension": ".py",
   "mimetype": "text/x-python",
   "name": "python",
   "nbconvert_exporter": "python",
   "pygments_lexer": "ipython3",
   "version": "3.7.3"
  }
 },
 "nbformat": 4,
 "nbformat_minor": 2
}
