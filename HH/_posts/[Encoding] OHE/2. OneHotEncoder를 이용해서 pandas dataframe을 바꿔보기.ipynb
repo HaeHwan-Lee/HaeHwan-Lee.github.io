{
 "cells": [
  {
   "cell_type": "code",
   "execution_count": 1,
   "metadata": {},
   "outputs": [],
   "source": [
    "import pandas as pd"
   ]
  },
  {
   "cell_type": "code",
   "execution_count": 2,
   "metadata": {
    "scrolled": true
   },
   "outputs": [
    {
     "data": {
      "text/html": [
       "<div>\n",
       "<style scoped>\n",
       "    .dataframe tbody tr th:only-of-type {\n",
       "        vertical-align: middle;\n",
       "    }\n",
       "\n",
       "    .dataframe tbody tr th {\n",
       "        vertical-align: top;\n",
       "    }\n",
       "\n",
       "    .dataframe thead th {\n",
       "        text-align: right;\n",
       "    }\n",
       "</style>\n",
       "<table border=\"1\" class=\"dataframe\">\n",
       "  <thead>\n",
       "    <tr style=\"text-align: right;\">\n",
       "      <th></th>\n",
       "      <th>click</th>\n",
       "      <th>adset_id</th>\n",
       "      <th>campaign_id</th>\n",
       "      <th>device_model</th>\n",
       "      <th>device_os</th>\n",
       "      <th>device_country</th>\n",
       "    </tr>\n",
       "  </thead>\n",
       "  <tbody>\n",
       "    <tr>\n",
       "      <th>1b1Yz4S9wG</th>\n",
       "      <td>0</td>\n",
       "      <td>GdBSlETcLy</td>\n",
       "      <td>taRA9jVfVL</td>\n",
       "      <td>AsY5LC0NLu</td>\n",
       "      <td>TG14pLUXCY</td>\n",
       "      <td>PCCn9Q1m20</td>\n",
       "    </tr>\n",
       "    <tr>\n",
       "      <th>eCYeFjnExb</th>\n",
       "      <td>0</td>\n",
       "      <td>GlheP2trvZ</td>\n",
       "      <td>jWRKzxzhyX</td>\n",
       "      <td>nz5kFLSj4p</td>\n",
       "      <td>TG14pLUXCY</td>\n",
       "      <td>PCCn9Q1m20</td>\n",
       "    </tr>\n",
       "    <tr>\n",
       "      <th>QHcMnYqF3h</th>\n",
       "      <td>0</td>\n",
       "      <td>WGJnvetv2a</td>\n",
       "      <td>DW5C3As8ij</td>\n",
       "      <td>nz5kFLSj4p</td>\n",
       "      <td>TG14pLUXCY</td>\n",
       "      <td>PCCn9Q1m20</td>\n",
       "    </tr>\n",
       "    <tr>\n",
       "      <th>p5v9KCdjS6</th>\n",
       "      <td>1</td>\n",
       "      <td>FiSRHSfVaf</td>\n",
       "      <td>qR4Xa60DLl</td>\n",
       "      <td>KBowLApKOt</td>\n",
       "      <td>TG14pLUXCY</td>\n",
       "      <td>PCCn9Q1m20</td>\n",
       "    </tr>\n",
       "    <tr>\n",
       "      <th>aAEDD9AeIv</th>\n",
       "      <td>0</td>\n",
       "      <td>UASfSkWw7S</td>\n",
       "      <td>2T5sOm2MoW</td>\n",
       "      <td>nz5kFLSj4p</td>\n",
       "      <td>TG14pLUXCY</td>\n",
       "      <td>PCCn9Q1m20</td>\n",
       "    </tr>\n",
       "  </tbody>\n",
       "</table>\n",
       "</div>"
      ],
      "text/plain": [
       "            click    adset_id campaign_id device_model   device_os  \\\n",
       "1b1Yz4S9wG      0  GdBSlETcLy  taRA9jVfVL   AsY5LC0NLu  TG14pLUXCY   \n",
       "eCYeFjnExb      0  GlheP2trvZ  jWRKzxzhyX   nz5kFLSj4p  TG14pLUXCY   \n",
       "QHcMnYqF3h      0  WGJnvetv2a  DW5C3As8ij   nz5kFLSj4p  TG14pLUXCY   \n",
       "p5v9KCdjS6      1  FiSRHSfVaf  qR4Xa60DLl   KBowLApKOt  TG14pLUXCY   \n",
       "aAEDD9AeIv      0  UASfSkWw7S  2T5sOm2MoW   nz5kFLSj4p  TG14pLUXCY   \n",
       "\n",
       "           device_country  \n",
       "1b1Yz4S9wG     PCCn9Q1m20  \n",
       "eCYeFjnExb     PCCn9Q1m20  \n",
       "QHcMnYqF3h     PCCn9Q1m20  \n",
       "p5v9KCdjS6     PCCn9Q1m20  \n",
       "aAEDD9AeIv     PCCn9Q1m20  "
      ]
     },
     "execution_count": 2,
     "metadata": {},
     "output_type": "execute_result"
    }
   ],
   "source": [
    "train = pd.read_csv(\"train.csv\", index_col = 0)\n",
    "train.head()"
   ]
  },
  {
   "cell_type": "code",
   "execution_count": 3,
   "metadata": {},
   "outputs": [
    {
     "data": {
      "text/html": [
       "<div>\n",
       "<style scoped>\n",
       "    .dataframe tbody tr th:only-of-type {\n",
       "        vertical-align: middle;\n",
       "    }\n",
       "\n",
       "    .dataframe tbody tr th {\n",
       "        vertical-align: top;\n",
       "    }\n",
       "\n",
       "    .dataframe thead th {\n",
       "        text-align: right;\n",
       "    }\n",
       "</style>\n",
       "<table border=\"1\" class=\"dataframe\">\n",
       "  <thead>\n",
       "    <tr style=\"text-align: right;\">\n",
       "      <th></th>\n",
       "      <th>click</th>\n",
       "      <th>adset_id</th>\n",
       "      <th>campaign_id</th>\n",
       "      <th>device_model</th>\n",
       "      <th>device_os</th>\n",
       "      <th>device_country</th>\n",
       "    </tr>\n",
       "  </thead>\n",
       "  <tbody>\n",
       "    <tr>\n",
       "      <th>1b1Yz4S9wG</th>\n",
       "      <td>0</td>\n",
       "      <td>GdBSlETcLy</td>\n",
       "      <td>taRA9jVfVL</td>\n",
       "      <td>AsY5LC0NLu</td>\n",
       "      <td>TG14pLUXCY</td>\n",
       "      <td>PCCn9Q1m20</td>\n",
       "    </tr>\n",
       "    <tr>\n",
       "      <th>eCYeFjnExb</th>\n",
       "      <td>0</td>\n",
       "      <td>GlheP2trvZ</td>\n",
       "      <td>jWRKzxzhyX</td>\n",
       "      <td>nz5kFLSj4p</td>\n",
       "      <td>TG14pLUXCY</td>\n",
       "      <td>PCCn9Q1m20</td>\n",
       "    </tr>\n",
       "    <tr>\n",
       "      <th>QHcMnYqF3h</th>\n",
       "      <td>0</td>\n",
       "      <td>WGJnvetv2a</td>\n",
       "      <td>DW5C3As8ij</td>\n",
       "      <td>nz5kFLSj4p</td>\n",
       "      <td>TG14pLUXCY</td>\n",
       "      <td>PCCn9Q1m20</td>\n",
       "    </tr>\n",
       "  </tbody>\n",
       "</table>\n",
       "</div>"
      ],
      "text/plain": [
       "            click    adset_id campaign_id device_model   device_os  \\\n",
       "1b1Yz4S9wG      0  GdBSlETcLy  taRA9jVfVL   AsY5LC0NLu  TG14pLUXCY   \n",
       "eCYeFjnExb      0  GlheP2trvZ  jWRKzxzhyX   nz5kFLSj4p  TG14pLUXCY   \n",
       "QHcMnYqF3h      0  WGJnvetv2a  DW5C3As8ij   nz5kFLSj4p  TG14pLUXCY   \n",
       "\n",
       "           device_country  \n",
       "1b1Yz4S9wG     PCCn9Q1m20  \n",
       "eCYeFjnExb     PCCn9Q1m20  \n",
       "QHcMnYqF3h     PCCn9Q1m20  "
      ]
     },
     "execution_count": 3,
     "metadata": {},
     "output_type": "execute_result"
    }
   ],
   "source": [
    "tmp = train.head(3)\n",
    "tmp"
   ]
  },
  {
   "cell_type": "markdown",
   "metadata": {},
   "source": [
    "> 편의상 head(3)을 이용해서 앞의 부분만 다루도록 한다."
   ]
  },
  {
   "cell_type": "code",
   "execution_count": 8,
   "metadata": {
    "scrolled": true
   },
   "outputs": [
    {
     "data": {
      "text/html": [
       "<div>\n",
       "<style scoped>\n",
       "    .dataframe tbody tr th:only-of-type {\n",
       "        vertical-align: middle;\n",
       "    }\n",
       "\n",
       "    .dataframe tbody tr th {\n",
       "        vertical-align: top;\n",
       "    }\n",
       "\n",
       "    .dataframe thead th {\n",
       "        text-align: right;\n",
       "    }\n",
       "</style>\n",
       "<table border=\"1\" class=\"dataframe\">\n",
       "  <thead>\n",
       "    <tr style=\"text-align: right;\">\n",
       "      <th></th>\n",
       "      <th>click</th>\n",
       "      <th>adset_id</th>\n",
       "      <th>campaign_id</th>\n",
       "      <th>device_model</th>\n",
       "      <th>device_os</th>\n",
       "      <th>device_country</th>\n",
       "    </tr>\n",
       "  </thead>\n",
       "  <tbody>\n",
       "    <tr>\n",
       "      <th>count</th>\n",
       "      <td>3</td>\n",
       "      <td>3</td>\n",
       "      <td>3</td>\n",
       "      <td>3</td>\n",
       "      <td>3</td>\n",
       "      <td>3</td>\n",
       "    </tr>\n",
       "    <tr>\n",
       "      <th>nunique</th>\n",
       "      <td>1</td>\n",
       "      <td>3</td>\n",
       "      <td>3</td>\n",
       "      <td>2</td>\n",
       "      <td>1</td>\n",
       "      <td>1</td>\n",
       "    </tr>\n",
       "  </tbody>\n",
       "</table>\n",
       "</div>"
      ],
      "text/plain": [
       "         click  adset_id  campaign_id  device_model  device_os  device_country\n",
       "count        3         3            3             3          3               3\n",
       "nunique      1         3            3             2          1               1"
      ]
     },
     "execution_count": 8,
     "metadata": {},
     "output_type": "execute_result"
    }
   ],
   "source": [
    "tmp.agg(['count', 'nunique'])"
   ]
  },
  {
   "cell_type": "markdown",
   "metadata": {},
   "source": [
    "> 범주형 데이터가 어떻게 구성되어 있는지 한 눈에 확인할 수 있다."
   ]
  },
  {
   "cell_type": "markdown",
   "metadata": {},
   "source": [
    "### 한 개만 OneHotEncoder 이용하기"
   ]
  },
  {
   "cell_type": "markdown",
   "metadata": {},
   "source": [
    "> device_model를 선택"
   ]
  },
  {
   "cell_type": "code",
   "execution_count": 4,
   "metadata": {},
   "outputs": [
    {
     "data": {
      "text/plain": [
       "array([[1., 0.],\n",
       "       [0., 1.],\n",
       "       [0., 1.]])"
      ]
     },
     "execution_count": 4,
     "metadata": {},
     "output_type": "execute_result"
    }
   ],
   "source": [
    "from sklearn.preprocessing import OneHotEncoder\n",
    "enc = OneHotEncoder()\n",
    "ohe = enc.fit_transform(tmp.device_model.values.reshape(-1,1)).toarray()\n",
    "ohe"
   ]
  },
  {
   "cell_type": "markdown",
   "metadata": {},
   "source": [
    "> 한 가지 짚고넘어가야할 부분은 reshape. 뒤에서 확인할 것."
   ]
  },
  {
   "cell_type": "code",
   "execution_count": 9,
   "metadata": {},
   "outputs": [
    {
     "data": {
      "text/html": [
       "<div>\n",
       "<style scoped>\n",
       "    .dataframe tbody tr th:only-of-type {\n",
       "        vertical-align: middle;\n",
       "    }\n",
       "\n",
       "    .dataframe tbody tr th {\n",
       "        vertical-align: top;\n",
       "    }\n",
       "\n",
       "    .dataframe thead th {\n",
       "        text-align: right;\n",
       "    }\n",
       "</style>\n",
       "<table border=\"1\" class=\"dataframe\">\n",
       "  <thead>\n",
       "    <tr style=\"text-align: right;\">\n",
       "      <th></th>\n",
       "      <th>Device_model_AsY5LC0NLu</th>\n",
       "      <th>Device_model_nz5kFLSj4p</th>\n",
       "    </tr>\n",
       "  </thead>\n",
       "  <tbody>\n",
       "    <tr>\n",
       "      <th>1b1Yz4S9wG</th>\n",
       "      <td>1.0</td>\n",
       "      <td>0.0</td>\n",
       "    </tr>\n",
       "    <tr>\n",
       "      <th>eCYeFjnExb</th>\n",
       "      <td>0.0</td>\n",
       "      <td>1.0</td>\n",
       "    </tr>\n",
       "    <tr>\n",
       "      <th>QHcMnYqF3h</th>\n",
       "      <td>0.0</td>\n",
       "      <td>1.0</td>\n",
       "    </tr>\n",
       "  </tbody>\n",
       "</table>\n",
       "</div>"
      ],
      "text/plain": [
       "            Device_model_AsY5LC0NLu  Device_model_nz5kFLSj4p\n",
       "1b1Yz4S9wG                      1.0                      0.0\n",
       "eCYeFjnExb                      0.0                      1.0\n",
       "QHcMnYqF3h                      0.0                      1.0"
      ]
     },
     "execution_count": 9,
     "metadata": {},
     "output_type": "execute_result"
    }
   ],
   "source": [
    "enc.fit_transform(tmp.device_model.values.reshape(-1,1))\n",
    "dfOneHot = pd.DataFrame(ohe, columns = [\"Device_model_\"+str(enc.categories_[0][i]) for i in range(len(enc.categories_[0])) ],\n",
    "                        index = tmp.index.tolist())\n",
    "\n",
    "dfOneHot"
   ]
  },
  {
   "cell_type": "code",
   "execution_count": 10,
   "metadata": {},
   "outputs": [
    {
     "data": {
      "text/html": [
       "<div>\n",
       "<style scoped>\n",
       "    .dataframe tbody tr th:only-of-type {\n",
       "        vertical-align: middle;\n",
       "    }\n",
       "\n",
       "    .dataframe tbody tr th {\n",
       "        vertical-align: top;\n",
       "    }\n",
       "\n",
       "    .dataframe thead th {\n",
       "        text-align: right;\n",
       "    }\n",
       "</style>\n",
       "<table border=\"1\" class=\"dataframe\">\n",
       "  <thead>\n",
       "    <tr style=\"text-align: right;\">\n",
       "      <th></th>\n",
       "      <th>click</th>\n",
       "      <th>adset_id</th>\n",
       "      <th>campaign_id</th>\n",
       "      <th>device_model</th>\n",
       "      <th>device_os</th>\n",
       "      <th>device_country</th>\n",
       "      <th>Device_model_AsY5LC0NLu</th>\n",
       "      <th>Device_model_nz5kFLSj4p</th>\n",
       "    </tr>\n",
       "  </thead>\n",
       "  <tbody>\n",
       "    <tr>\n",
       "      <th>1b1Yz4S9wG</th>\n",
       "      <td>0</td>\n",
       "      <td>GdBSlETcLy</td>\n",
       "      <td>taRA9jVfVL</td>\n",
       "      <td>AsY5LC0NLu</td>\n",
       "      <td>TG14pLUXCY</td>\n",
       "      <td>PCCn9Q1m20</td>\n",
       "      <td>1.0</td>\n",
       "      <td>0.0</td>\n",
       "    </tr>\n",
       "    <tr>\n",
       "      <th>eCYeFjnExb</th>\n",
       "      <td>0</td>\n",
       "      <td>GlheP2trvZ</td>\n",
       "      <td>jWRKzxzhyX</td>\n",
       "      <td>nz5kFLSj4p</td>\n",
       "      <td>TG14pLUXCY</td>\n",
       "      <td>PCCn9Q1m20</td>\n",
       "      <td>0.0</td>\n",
       "      <td>1.0</td>\n",
       "    </tr>\n",
       "    <tr>\n",
       "      <th>QHcMnYqF3h</th>\n",
       "      <td>0</td>\n",
       "      <td>WGJnvetv2a</td>\n",
       "      <td>DW5C3As8ij</td>\n",
       "      <td>nz5kFLSj4p</td>\n",
       "      <td>TG14pLUXCY</td>\n",
       "      <td>PCCn9Q1m20</td>\n",
       "      <td>0.0</td>\n",
       "      <td>1.0</td>\n",
       "    </tr>\n",
       "  </tbody>\n",
       "</table>\n",
       "</div>"
      ],
      "text/plain": [
       "            click    adset_id campaign_id device_model   device_os  \\\n",
       "1b1Yz4S9wG      0  GdBSlETcLy  taRA9jVfVL   AsY5LC0NLu  TG14pLUXCY   \n",
       "eCYeFjnExb      0  GlheP2trvZ  jWRKzxzhyX   nz5kFLSj4p  TG14pLUXCY   \n",
       "QHcMnYqF3h      0  WGJnvetv2a  DW5C3As8ij   nz5kFLSj4p  TG14pLUXCY   \n",
       "\n",
       "           device_country  Device_model_AsY5LC0NLu  Device_model_nz5kFLSj4p  \n",
       "1b1Yz4S9wG     PCCn9Q1m20                      1.0                      0.0  \n",
       "eCYeFjnExb     PCCn9Q1m20                      0.0                      1.0  \n",
       "QHcMnYqF3h     PCCn9Q1m20                      0.0                      1.0  "
      ]
     },
     "execution_count": 10,
     "metadata": {},
     "output_type": "execute_result"
    }
   ],
   "source": [
    "dfh = pd.concat([tmp, dfOneHot], axis=1)\n",
    "\n",
    "dfh"
   ]
  },
  {
   "cell_type": "markdown",
   "metadata": {},
   "source": [
    "### 전부 OneHotEncoder 이용하기"
   ]
  },
  {
   "cell_type": "code",
   "execution_count": 11,
   "metadata": {
    "scrolled": true
   },
   "outputs": [
    {
     "data": {
      "text/html": [
       "<div>\n",
       "<style scoped>\n",
       "    .dataframe tbody tr th:only-of-type {\n",
       "        vertical-align: middle;\n",
       "    }\n",
       "\n",
       "    .dataframe tbody tr th {\n",
       "        vertical-align: top;\n",
       "    }\n",
       "\n",
       "    .dataframe thead th {\n",
       "        text-align: right;\n",
       "    }\n",
       "</style>\n",
       "<table border=\"1\" class=\"dataframe\">\n",
       "  <thead>\n",
       "    <tr style=\"text-align: right;\">\n",
       "      <th></th>\n",
       "      <th>click</th>\n",
       "      <th>adset_id</th>\n",
       "      <th>campaign_id</th>\n",
       "      <th>device_model</th>\n",
       "      <th>device_os</th>\n",
       "      <th>device_country</th>\n",
       "    </tr>\n",
       "  </thead>\n",
       "  <tbody>\n",
       "    <tr>\n",
       "      <th>1b1Yz4S9wG</th>\n",
       "      <td>0</td>\n",
       "      <td>GdBSlETcLy</td>\n",
       "      <td>taRA9jVfVL</td>\n",
       "      <td>AsY5LC0NLu</td>\n",
       "      <td>TG14pLUXCY</td>\n",
       "      <td>PCCn9Q1m20</td>\n",
       "    </tr>\n",
       "    <tr>\n",
       "      <th>eCYeFjnExb</th>\n",
       "      <td>0</td>\n",
       "      <td>GlheP2trvZ</td>\n",
       "      <td>jWRKzxzhyX</td>\n",
       "      <td>nz5kFLSj4p</td>\n",
       "      <td>TG14pLUXCY</td>\n",
       "      <td>PCCn9Q1m20</td>\n",
       "    </tr>\n",
       "    <tr>\n",
       "      <th>QHcMnYqF3h</th>\n",
       "      <td>0</td>\n",
       "      <td>WGJnvetv2a</td>\n",
       "      <td>DW5C3As8ij</td>\n",
       "      <td>nz5kFLSj4p</td>\n",
       "      <td>TG14pLUXCY</td>\n",
       "      <td>PCCn9Q1m20</td>\n",
       "    </tr>\n",
       "  </tbody>\n",
       "</table>\n",
       "</div>"
      ],
      "text/plain": [
       "            click    adset_id campaign_id device_model   device_os  \\\n",
       "1b1Yz4S9wG      0  GdBSlETcLy  taRA9jVfVL   AsY5LC0NLu  TG14pLUXCY   \n",
       "eCYeFjnExb      0  GlheP2trvZ  jWRKzxzhyX   nz5kFLSj4p  TG14pLUXCY   \n",
       "QHcMnYqF3h      0  WGJnvetv2a  DW5C3As8ij   nz5kFLSj4p  TG14pLUXCY   \n",
       "\n",
       "           device_country  \n",
       "1b1Yz4S9wG     PCCn9Q1m20  \n",
       "eCYeFjnExb     PCCn9Q1m20  \n",
       "QHcMnYqF3h     PCCn9Q1m20  "
      ]
     },
     "execution_count": 11,
     "metadata": {},
     "output_type": "execute_result"
    }
   ],
   "source": [
    "tmp"
   ]
  },
  {
   "cell_type": "markdown",
   "metadata": {},
   "source": [
    "> 마찬가지로 같은 데이터를 사용"
   ]
  },
  {
   "cell_type": "code",
   "execution_count": 12,
   "metadata": {},
   "outputs": [],
   "source": [
    "from sklearn.preprocessing import OneHotEncoder\n",
    "enc = OneHotEncoder()"
   ]
  },
  {
   "cell_type": "code",
   "execution_count": 13,
   "metadata": {},
   "outputs": [],
   "source": [
    "for i in tmp.columns[1:]:\n",
    "    ohe = enc.fit_transform(tmp[i].values.reshape(-1,1)).toarray()\n",
    "    dfOneHot = pd.DataFrame(ohe, columns = [i+\"_\"+str(enc.categories_[0][j]) for j in range(len(enc.categories_[0])) ],\n",
    "                        index = tmp.index.tolist())\n",
    "    tmp = pd.concat([tmp, dfOneHot], axis=1)"
   ]
  },
  {
   "cell_type": "code",
   "execution_count": 14,
   "metadata": {},
   "outputs": [
    {
     "data": {
      "text/html": [
       "<div>\n",
       "<style scoped>\n",
       "    .dataframe tbody tr th:only-of-type {\n",
       "        vertical-align: middle;\n",
       "    }\n",
       "\n",
       "    .dataframe tbody tr th {\n",
       "        vertical-align: top;\n",
       "    }\n",
       "\n",
       "    .dataframe thead th {\n",
       "        text-align: right;\n",
       "    }\n",
       "</style>\n",
       "<table border=\"1\" class=\"dataframe\">\n",
       "  <thead>\n",
       "    <tr style=\"text-align: right;\">\n",
       "      <th></th>\n",
       "      <th>click</th>\n",
       "      <th>adset_id</th>\n",
       "      <th>campaign_id</th>\n",
       "      <th>device_model</th>\n",
       "      <th>device_os</th>\n",
       "      <th>device_country</th>\n",
       "      <th>adset_id_GdBSlETcLy</th>\n",
       "      <th>adset_id_GlheP2trvZ</th>\n",
       "      <th>adset_id_WGJnvetv2a</th>\n",
       "      <th>campaign_id_DW5C3As8ij</th>\n",
       "      <th>campaign_id_jWRKzxzhyX</th>\n",
       "      <th>campaign_id_taRA9jVfVL</th>\n",
       "      <th>device_model_AsY5LC0NLu</th>\n",
       "      <th>device_model_nz5kFLSj4p</th>\n",
       "      <th>device_os_TG14pLUXCY</th>\n",
       "      <th>device_country_PCCn9Q1m20</th>\n",
       "    </tr>\n",
       "  </thead>\n",
       "  <tbody>\n",
       "    <tr>\n",
       "      <th>1b1Yz4S9wG</th>\n",
       "      <td>0</td>\n",
       "      <td>GdBSlETcLy</td>\n",
       "      <td>taRA9jVfVL</td>\n",
       "      <td>AsY5LC0NLu</td>\n",
       "      <td>TG14pLUXCY</td>\n",
       "      <td>PCCn9Q1m20</td>\n",
       "      <td>1.0</td>\n",
       "      <td>0.0</td>\n",
       "      <td>0.0</td>\n",
       "      <td>0.0</td>\n",
       "      <td>0.0</td>\n",
       "      <td>1.0</td>\n",
       "      <td>1.0</td>\n",
       "      <td>0.0</td>\n",
       "      <td>1.0</td>\n",
       "      <td>1.0</td>\n",
       "    </tr>\n",
       "    <tr>\n",
       "      <th>eCYeFjnExb</th>\n",
       "      <td>0</td>\n",
       "      <td>GlheP2trvZ</td>\n",
       "      <td>jWRKzxzhyX</td>\n",
       "      <td>nz5kFLSj4p</td>\n",
       "      <td>TG14pLUXCY</td>\n",
       "      <td>PCCn9Q1m20</td>\n",
       "      <td>0.0</td>\n",
       "      <td>1.0</td>\n",
       "      <td>0.0</td>\n",
       "      <td>0.0</td>\n",
       "      <td>1.0</td>\n",
       "      <td>0.0</td>\n",
       "      <td>0.0</td>\n",
       "      <td>1.0</td>\n",
       "      <td>1.0</td>\n",
       "      <td>1.0</td>\n",
       "    </tr>\n",
       "    <tr>\n",
       "      <th>QHcMnYqF3h</th>\n",
       "      <td>0</td>\n",
       "      <td>WGJnvetv2a</td>\n",
       "      <td>DW5C3As8ij</td>\n",
       "      <td>nz5kFLSj4p</td>\n",
       "      <td>TG14pLUXCY</td>\n",
       "      <td>PCCn9Q1m20</td>\n",
       "      <td>0.0</td>\n",
       "      <td>0.0</td>\n",
       "      <td>1.0</td>\n",
       "      <td>1.0</td>\n",
       "      <td>0.0</td>\n",
       "      <td>0.0</td>\n",
       "      <td>0.0</td>\n",
       "      <td>1.0</td>\n",
       "      <td>1.0</td>\n",
       "      <td>1.0</td>\n",
       "    </tr>\n",
       "  </tbody>\n",
       "</table>\n",
       "</div>"
      ],
      "text/plain": [
       "            click    adset_id campaign_id device_model   device_os  \\\n",
       "1b1Yz4S9wG      0  GdBSlETcLy  taRA9jVfVL   AsY5LC0NLu  TG14pLUXCY   \n",
       "eCYeFjnExb      0  GlheP2trvZ  jWRKzxzhyX   nz5kFLSj4p  TG14pLUXCY   \n",
       "QHcMnYqF3h      0  WGJnvetv2a  DW5C3As8ij   nz5kFLSj4p  TG14pLUXCY   \n",
       "\n",
       "           device_country  adset_id_GdBSlETcLy  adset_id_GlheP2trvZ  \\\n",
       "1b1Yz4S9wG     PCCn9Q1m20                  1.0                  0.0   \n",
       "eCYeFjnExb     PCCn9Q1m20                  0.0                  1.0   \n",
       "QHcMnYqF3h     PCCn9Q1m20                  0.0                  0.0   \n",
       "\n",
       "            adset_id_WGJnvetv2a  campaign_id_DW5C3As8ij  \\\n",
       "1b1Yz4S9wG                  0.0                     0.0   \n",
       "eCYeFjnExb                  0.0                     0.0   \n",
       "QHcMnYqF3h                  1.0                     1.0   \n",
       "\n",
       "            campaign_id_jWRKzxzhyX  campaign_id_taRA9jVfVL  \\\n",
       "1b1Yz4S9wG                     0.0                     1.0   \n",
       "eCYeFjnExb                     1.0                     0.0   \n",
       "QHcMnYqF3h                     0.0                     0.0   \n",
       "\n",
       "            device_model_AsY5LC0NLu  device_model_nz5kFLSj4p  \\\n",
       "1b1Yz4S9wG                      1.0                      0.0   \n",
       "eCYeFjnExb                      0.0                      1.0   \n",
       "QHcMnYqF3h                      0.0                      1.0   \n",
       "\n",
       "            device_os_TG14pLUXCY  device_country_PCCn9Q1m20  \n",
       "1b1Yz4S9wG                   1.0                        1.0  \n",
       "eCYeFjnExb                   1.0                        1.0  \n",
       "QHcMnYqF3h                   1.0                        1.0  "
      ]
     },
     "execution_count": 14,
     "metadata": {},
     "output_type": "execute_result"
    }
   ],
   "source": [
    "tmp"
   ]
  },
  {
   "cell_type": "markdown",
   "metadata": {},
   "source": [
    "<hr>"
   ]
  },
  {
   "cell_type": "code",
   "execution_count": 5,
   "metadata": {},
   "outputs": [
    {
     "data": {
      "text/plain": [
       "array(['AsY5LC0NLu', 'nz5kFLSj4p', 'nz5kFLSj4p'], dtype=object)"
      ]
     },
     "execution_count": 5,
     "metadata": {},
     "output_type": "execute_result"
    }
   ],
   "source": [
    "TMP = tmp.device_model.values\n",
    "TMP"
   ]
  },
  {
   "cell_type": "code",
   "execution_count": 6,
   "metadata": {},
   "outputs": [
    {
     "data": {
      "text/plain": [
       "array([['AsY5LC0NLu'],\n",
       "       ['nz5kFLSj4p'],\n",
       "       ['nz5kFLSj4p']], dtype=object)"
      ]
     },
     "execution_count": 6,
     "metadata": {},
     "output_type": "execute_result"
    }
   ],
   "source": [
    "TMP.reshape(-1,1)"
   ]
  },
  {
   "cell_type": "code",
   "execution_count": 7,
   "metadata": {},
   "outputs": [
    {
     "data": {
      "text/plain": [
       "array([['AsY5LC0NLu', 'nz5kFLSj4p', 'nz5kFLSj4p']], dtype=object)"
      ]
     },
     "execution_count": 7,
     "metadata": {},
     "output_type": "execute_result"
    }
   ],
   "source": [
    "TMP.reshape(-1,3)"
   ]
  }
 ],
 "metadata": {
  "kernelspec": {
   "display_name": "Python 3",
   "language": "python",
   "name": "python3"
  },
  "language_info": {
   "codemirror_mode": {
    "name": "ipython",
    "version": 3
   },
   "file_extension": ".py",
   "mimetype": "text/x-python",
   "name": "python",
   "nbconvert_exporter": "python",
   "pygments_lexer": "ipython3",
   "version": "3.7.3"
  }
 },
 "nbformat": 4,
 "nbformat_minor": 2
}
